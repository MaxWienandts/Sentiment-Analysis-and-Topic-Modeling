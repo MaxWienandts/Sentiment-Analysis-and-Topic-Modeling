{
 "cells": [
  {
   "cell_type": "markdown",
   "id": "eec5717e-ddc3-4587-8af7-b0c36734a583",
   "metadata": {},
   "source": [
    "## Max Wienandts\n",
    "\n",
    "Problem Statement:\n",
    "-  Is BERT and DistilBERT appropriate to sentiment analysis? Is Latent Dirichlet Allocation (LDA) appropriate for topic modeling?\n",
    "\n",
    "|SUMMARY|\n",
    "|:------------------------------------------------|\n",
    "|[**1. LSTM for a dataset**](#LSTM_for_a_dataset)|\n",
    "|[**2. Topic modelng with LDA for a dataset**](#Topic_modelng_with_LDA_for_a_dataset)|\n",
    "|[**3. Sample analysis**](#Sample_analysis)|\n",
    "|[**4. LSTM for a custom review**](#LSTM_for_a_custom_review)|\n",
    "|[**5. Topic modelng with LDA for a custom review**](#Topic_modelng_with_LDA_for_a_custom_review)|\n",
    "\n",
    "This project have 4 Jupyter notebook:\n",
    "- 1 ETL and EDA.ipynb;\n",
    "- 2 LSTM BERT DistilBERT.ipynb;\n",
    "- 3 Topic modeling.ipynb; and\n",
    "- 4 Production.ipynb.\n",
    "\n",
    "They should be runned in order. \\\n",
    "The objective of the first notebook is to known better our dataset and to clean it. \\\n",
    "The second notebook have the models related to sentiment analysis. \\\n",
    "The third one have the topic modeling. \\\n",
    "Finally, the last notebook is an example to how to apply the sentiment and topic models to an dataset and to a custow review."
   ]
  },
  {
   "cell_type": "code",
   "execution_count": 1,
   "id": "f75e8223-54c3-4b26-8e82-3def81e2c353",
   "metadata": {},
   "outputs": [],
   "source": [
    "import json\n",
    "import pickle\n",
    "\n",
    "import numpy as np\n",
    "import pandas as pd\n",
    "import matplotlib.pyplot as plt\n",
    "\n",
    "from sklearn import preprocessing\n",
    "\n",
    "import re\n",
    "import nltk   # It is necessary to have to download 'stopwords' from nltk.\n",
    "\n",
    "import tensorflow as tf\n",
    "from tensorflow.keras.preprocessing.sequence import pad_sequences"
   ]
  },
  {
   "cell_type": "code",
   "execution_count": 2,
   "id": "d461b258-5dc1-457a-b3bd-a8d3f9c415db",
   "metadata": {},
   "outputs": [],
   "source": [
    "# Custom review to be analyzed.\n",
    "custom_review = \"It's good but it's also bad. I don't know. Maybe they could train better the management.\"\n",
    "\n",
    "# Operational system. If Linux \"1\", otherwise \"0\".\n",
    "OS_system = 0\n",
    "\n",
    "# Path to load word to index file used in the baseline LSTM model\n",
    "word2idx_base_LSTM_path_win = r\"C:\\Users\\maxwi\\Python\\Harvard\\Electives\\1 CSCI S-89 Introduction to Deep Learning\\Project\\1 sentiment analysis\\Glassdoor 2\\models\\base_LSTM\\word2idx.txt\"\n",
    "word2idx_base_LSTM_path_linux = \"/home/max/Python/Harvard/Electives/1 CSCI S-89 Introduction to Deep Learning/Project/1 sentiment analysis/Glassdoor 2/models/base_LSTM/model_base_LSTM\"\n",
    "\n",
    "# Epochs used in the best LSTM model\n",
    "base_LSTM_epoch_best_metric = 3\n",
    "# Path to load baseline LSTM model\n",
    "base_LSTM_path_win = r\"C:\\Users\\maxwi\\Python\\Harvard\\Electives\\1 CSCI S-89 Introduction to Deep Learning\\Project\\1 sentiment analysis\\Glassdoor 2\\models\\base_LSTM\\model_base_LSTM\"\n",
    "base_LSTM_path_linux = \"/home/max/Python/Harvard/Electives/1 CSCI S-89 Introduction to Deep Learning/Project/1 sentiment analysis/Glassdoor 2/models/base_LSTM/model_base_LSTM\"\n",
    "\n",
    "# Path to save model\n",
    "LDA_path_win = r\"C:\\Users\\maxwi\\Python\\Harvard\\Electives\\1 CSCI S-89 Introduction to Deep Learning\\Project\\1 sentiment analysis\\Glassdoor 2\\models\\LDA\\LDA_model.pk\"\n",
    "LDA_path_linux = \"/home/max/Python/Harvard/Electives/1 CSCI S-89 Introduction to Deep Learning/Project/1 sentiment analysis/Glassdoor 2/models/LDA/LDA_model.pk\"\n",
    "\n",
    "tfidf_path_win = r\"C:\\Users\\maxwi\\Python\\Harvard\\Electives\\1 CSCI S-89 Introduction to Deep Learning\\Project\\1 sentiment analysis\\Glassdoor 2\\models\\LDA\\tfidf.pk\"\n",
    "tfidf_path_linux = \"/home/max/Python/Harvard/Electives/1 CSCI S-89 Introduction to Deep Learning/Project/1 sentiment analysis/Glassdoor 2/models/LDA/tfidf.pk\"\n",
    "\n",
    "\n",
    "if OS_system == 1:\n",
    "    word2idx_base_LSTM_path = word2idx_base_LSTM_path_linux\n",
    "    base_LSTM_path = base_LSTM_path_linux\n",
    "    LDA_path = LDA_path_linux\n",
    "    tfidf_path = tfidf_path_linux\n",
    "\n",
    "else:\n",
    "    word2idx_base_LSTM_path = word2idx_base_LSTM_path_win\n",
    "    base_LSTM_path = base_LSTM_path_win\n",
    "    LDA_path = LDA_path_win\n",
    "    tfidf_path = tfidf_path_win"
   ]
  },
  {
   "cell_type": "code",
   "execution_count": 3,
   "id": "f3817b89-46ed-4bbd-ad51-13170c0b9bdf",
   "metadata": {},
   "outputs": [
    {
     "data": {
      "text/html": [
       "<div>\n",
       "<style scoped>\n",
       "    .dataframe tbody tr th:only-of-type {\n",
       "        vertical-align: middle;\n",
       "    }\n",
       "\n",
       "    .dataframe tbody tr th {\n",
       "        vertical-align: top;\n",
       "    }\n",
       "\n",
       "    .dataframe thead th {\n",
       "        text-align: right;\n",
       "    }\n",
       "</style>\n",
       "<table border=\"1\" class=\"dataframe\">\n",
       "  <thead>\n",
       "    <tr style=\"text-align: right;\">\n",
       "      <th></th>\n",
       "      <th>firm</th>\n",
       "      <th>review</th>\n",
       "    </tr>\n",
       "  </thead>\n",
       "  <tbody>\n",
       "    <tr>\n",
       "      <th>0</th>\n",
       "      <td>172</td>\n",
       "      <td>Resources. Plenty of experienced people to hel...</td>\n",
       "    </tr>\n",
       "    <tr>\n",
       "      <th>1</th>\n",
       "      <td>220</td>\n",
       "      <td>Excellent company! Great Training! Great Culture</td>\n",
       "    </tr>\n",
       "    <tr>\n",
       "      <th>2</th>\n",
       "      <td>229</td>\n",
       "      <td>company has a good atmosphere of technically s...</td>\n",
       "    </tr>\n",
       "    <tr>\n",
       "      <th>3</th>\n",
       "      <td>229</td>\n",
       "      <td>new technology to work on and brand name</td>\n",
       "    </tr>\n",
       "    <tr>\n",
       "      <th>4</th>\n",
       "      <td>182</td>\n",
       "      <td>WaMu had a very diverse group of people to wor...</td>\n",
       "    </tr>\n",
       "  </tbody>\n",
       "</table>\n",
       "</div>"
      ],
      "text/plain": [
       "   firm                                             review\n",
       "0   172  Resources. Plenty of experienced people to hel...\n",
       "1   220   Excellent company! Great Training! Great Culture\n",
       "2   229  company has a good atmosphere of technically s...\n",
       "3   229           new technology to work on and brand name\n",
       "4   182  WaMu had a very diverse group of people to wor..."
      ]
     },
     "execution_count": 3,
     "metadata": {},
     "output_type": "execute_result"
    }
   ],
   "source": [
    "df = pd.read_csv('df_sample.csv', usecols = ['firm', 'pros', 'cons'])\n",
    "# Preprocess\n",
    "# Rename columns so pros = 1, cons = 0\n",
    "df.columns = ['firm', '1', '0']\n",
    "\n",
    "# Put the reviews in only one column and create a target column expressing if the review is positive or negative.\n",
    "df = pd.melt(df, id_vars=['firm'], value_vars=['1', '0'])\n",
    "df.columns = ['firm', 'target', 'review']\n",
    "df = df[['firm', 'review']]  # This time, the column target is not needed.\n",
    "\n",
    "# Before doing any study in our data, lets anonymize the company names.\n",
    "label_acoder = preprocessing.LabelEncoder()  \n",
    "label_acoder.fit(df.firm)  # We are not useing the same model in training because this is just to anonimize the companies names.\n",
    "df.firm = label_acoder.transform(df.firm)\n",
    "\n",
    "df.head()"
   ]
  },
  {
   "cell_type": "markdown",
   "id": "8d9d1234-f575-48a7-b4c3-d08e304e6d63",
   "metadata": {},
   "source": [
    "<div id='LSTM_for_a_dataset' />\n",
    "\n",
    "## LSTM for a dataset\n",
    "Classify reviews as postive or negative."
   ]
  },
  {
   "cell_type": "code",
   "execution_count": 4,
   "id": "0bcdd5ed-7c2f-4f43-a776-5619827c5d1d",
   "metadata": {},
   "outputs": [],
   "source": [
    "# Preprocess for LSTM.\n",
    "X_prod = df['review']\n",
    "# Remove punctuations.\n",
    "X_prod = X_prod.replace({r'[^\\w\\s]': ' '}, regex = True)\n",
    "\n",
    "# Load word2idx\n",
    "# Opening JSON file\n",
    "with open(word2idx_base_LSTM_path) as json_file:\n",
    "    word2idx = json.load(json_file)\n",
    "\n",
    "# Encode the sentences\n",
    "def encode_row(review, word2idx):\n",
    "    ecoded_row = []\n",
    "    for word in str(review).split():\n",
    "        if word in word2idx:\n",
    "            ecoded_row.append(word2idx[word])\n",
    "        else:\n",
    "            ecoded_row.append(word2idx[\"<UNK>\"])\n",
    "    return ecoded_row\n",
    "\n",
    "X_prod_encoded = []\n",
    "for review in X_prod:\n",
    "    econded_review = encode_row(review, word2idx)\n",
    "    X_prod_encoded.append(econded_review)\n",
    "\n",
    "# PAD reviews\n",
    "max_len = 60 # Using a max length of 60, we get more than 95% of the reviews.\n",
    "X_prod_encoded = pad_sequences(X_prod_encoded, maxlen = max_len, padding = 'pre')"
   ]
  },
  {
   "cell_type": "code",
   "execution_count": 5,
   "id": "af9cb8a7-8a57-4079-8a88-1fbaff81eb89",
   "metadata": {},
   "outputs": [
    {
     "name": "stdout",
     "output_type": "stream",
     "text": [
      "2621/2621 [==============================] - 10s 2ms/step\n",
      " 50.20% of the reviews are positive.\n"
     ]
    }
   ],
   "source": [
    "# Load best saved model\n",
    "if base_LSTM_epoch_best_metric > 9:\n",
    "    best_epoch_aux = \"_00\" + str(base_LSTM_epoch_best_metric)\n",
    "else:\n",
    "    best_epoch_aux = \"_000\" + str(base_LSTM_epoch_best_metric)\n",
    "best_base_LSTM_path_win = base_LSTM_path_win + best_epoch_aux + \".h5\"\n",
    "best_base_LSTM_path_linux = base_LSTM_path_linux + best_epoch_aux + \".h5\"\n",
    "if OS_system == 1:\n",
    "    best_base_LSTM_path = best_base_LSTM_path_linux\n",
    "else:\n",
    "    best_base_LSTM_path = best_base_LSTM_path_win\n",
    "model_base_LSTM = tf.keras.models.load_model(best_base_LSTM_path, compile = False)\n",
    "\n",
    "# Predict\n",
    "y_pred_proba = model_base_LSTM.predict(X_prod_encoded)\n",
    "y_pred = ['Positive' if x > 0.5 else 'Negative' for x in y_pred_proba]\n",
    "\n",
    "# Add prediction in dataset\n",
    "df['sentiment_review'] = y_pred\n",
    "\n",
    "sentiment_proportion = df['sentiment_review'].value_counts(normalize = True)[0]*100\n",
    "print(f'{sentiment_proportion: 0.2f}% of the reviews are positive.')"
   ]
  },
  {
   "cell_type": "markdown",
   "id": "e03cca72-64bd-4f5b-bd49-90ed2612124c",
   "metadata": {},
   "source": [
    "<div id='Topic_modelng_with_LDA_for_a_dataset' />\n",
    "    \n",
    "## Topic modelng with LDA for a dataset"
   ]
  },
  {
   "cell_type": "code",
   "execution_count": 6,
   "id": "f2c4f95c-079d-442a-98eb-6457e217fd30",
   "metadata": {},
   "outputs": [],
   "source": [
    "# Preprocess\n",
    "# Substitute /r and /n by space\n",
    "df.replace({ '\\r': ' ', '\\n' : ' '}, regex = True, inplace = True)\n",
    "\n",
    "# Lower case\n",
    "df['review_lower'] = df.review.str.lower()\n",
    "\n",
    "# Remove punctuation\n",
    "df['review_lower'].replace({r'[^\\w\\s]': ' '}, regex = True, inplace = True)\n",
    "\n",
    "# Remove rows with only whitespaces\n",
    "df = df.replace(r'^\\s*$', np.nan, regex = True).dropna()\n",
    "df = df.replace('', np.nan, regex = True).dropna()\n",
    "\n",
    "# Remove stop words\n",
    "stopwords = nltk.corpus.stopwords.words('english')\n",
    "# Include new stopwords not useful for this project in specific.\n",
    "new_stopwords = ['able', 'across', 'alway', 'always', 'amazing', 'amount', 'around', 'available', 'average', 'away'\n",
    "                 , 'back', 'bad', 'bank', 'best', 'better', 'big', 'bit'\n",
    "                 , 'call', 'care', 'certain', 'co', 'come', 'comme', 'con', 'cons', 'cost'\n",
    "                 , 'day', 'decent', 'different', 'difficult', 'done', 'due'\n",
    "                 , 'easy', 'end', 'enough', 'especially', 'etc', 'even', 'event', 'every', 'everything', 'excellent', 'extremely'\n",
    "                 , 'fantastic', 'far', 'fast', 'feel', 'few', 'find', 'firm', 'first', 'focu', 'full'\n",
    "                 , 'getting', 'give', 'given', 'go', 'going', 'good', 'great'\n",
    "                 , 'hard', 'high', 'higher', 'interesting', 'keep', 'know'\n",
    "                 , 'lack', 'late', 'leave', 'less', 'level', 'limited', 'little', 'long', 'lot', 'lots', 'low', 'lower'\n",
    "                 , 'made', 'make', 'may', 'many', 'meet', 'meeting', 'middle', 'might', 'month', 'months', 'much'\n",
    "                 , 'n', 'name', 'need', 'never', 'new', 'non', 'number'\n",
    "                 , 'often', 'old', 'one', 'open', 'other', 'others', 'overall'\n",
    "                 , 'part', 'pretty', 'poor', 'put', 'quality', 'quite', 'rather', 'real', 'really', 'right' , 'room'\n",
    "                 , 'say', 'seem', 'short', 'slow', 'smart', 'sometime', 'sometimes', 'standard', 'start', 'still', 'strong'\n",
    "                 , 'take', 'term', 'thing', 'things', 'though', 'think', 'top', 'tough', 'u', 'unless'\n",
    "                 , 'want', 'way', 'week', 'well', 'within', 'without', 'world', 'year', 'years']\n",
    "for e in new_stopwords:\n",
    "    stopwords.append(e)\n",
    "df['review_without_stopwords'] = df['review_lower'].apply(lambda x: ' '.join([word for word in x.split() if word not in (stopwords)]))\n",
    "\n",
    "# Tokenize words. Used to make it easier to stem.\n",
    "df['review_token'] = df['review_without_stopwords'].apply(lambda x: x.split())\n",
    "\n",
    "# stem words. This will be used in for the topic modeling.\n",
    "def stem_words(vec_words):\n",
    "    porter_stemmer = nltk.stem.PorterStemmer()\n",
    "    vec_stemming_word = []\n",
    "    for word in vec_words:\n",
    "        vec_stemming_word.append(porter_stemmer.stem(word))\n",
    "    return vec_stemming_word\n",
    "\n",
    "df['review_token'] = df.apply(lambda row: stem_words(row['review_token']), axis = 1) \n",
    "\n",
    "# Join words to vectorize it using TF-IDF \n",
    "df['review_clean'] = df['review_token'].apply(' '.join)\n",
    "\n",
    "# Load TF-IDF\n",
    "tfidf = pickle.load(open(tfidf_path, 'rb'))\n",
    "\n",
    "# Fit and Transform the documents\n",
    "text_data = tfidf.transform(df['review_clean'])"
   ]
  },
  {
   "cell_type": "code",
   "execution_count": 7,
   "id": "d7b1f9d7-a672-4267-973f-4abf4452540f",
   "metadata": {},
   "outputs": [
    {
     "data": {
      "text/html": [
       "<div>\n",
       "<style scoped>\n",
       "    .dataframe tbody tr th:only-of-type {\n",
       "        vertical-align: middle;\n",
       "    }\n",
       "\n",
       "    .dataframe tbody tr th {\n",
       "        vertical-align: top;\n",
       "    }\n",
       "\n",
       "    .dataframe thead th {\n",
       "        text-align: right;\n",
       "    }\n",
       "</style>\n",
       "<table border=\"1\" class=\"dataframe\">\n",
       "  <thead>\n",
       "    <tr style=\"text-align: right;\">\n",
       "      <th></th>\n",
       "      <th>firm</th>\n",
       "      <th>review</th>\n",
       "      <th>sentiment_review</th>\n",
       "      <th>first_LDA_topics</th>\n",
       "    </tr>\n",
       "  </thead>\n",
       "  <tbody>\n",
       "    <tr>\n",
       "      <th>0</th>\n",
       "      <td>172</td>\n",
       "      <td>Resources. Plenty of experienced people to hel...</td>\n",
       "      <td>Positive</td>\n",
       "      <td>Senior Management</td>\n",
       "    </tr>\n",
       "    <tr>\n",
       "      <th>1</th>\n",
       "      <td>220</td>\n",
       "      <td>Excellent company! Great Training! Great Culture</td>\n",
       "      <td>Positive</td>\n",
       "      <td>Work/Life Balance</td>\n",
       "    </tr>\n",
       "    <tr>\n",
       "      <th>2</th>\n",
       "      <td>229</td>\n",
       "      <td>company has a good atmosphere of technically s...</td>\n",
       "      <td>Positive</td>\n",
       "      <td>Work/Life Balance</td>\n",
       "    </tr>\n",
       "    <tr>\n",
       "      <th>3</th>\n",
       "      <td>229</td>\n",
       "      <td>new technology to work on and brand name</td>\n",
       "      <td>Positive</td>\n",
       "      <td>Work/Life Balance</td>\n",
       "    </tr>\n",
       "    <tr>\n",
       "      <th>4</th>\n",
       "      <td>182</td>\n",
       "      <td>WaMu had a very diverse group of people to wor...</td>\n",
       "      <td>Positive</td>\n",
       "      <td>Senior Management</td>\n",
       "    </tr>\n",
       "  </tbody>\n",
       "</table>\n",
       "</div>"
      ],
      "text/plain": [
       "   firm                                             review sentiment_review  \\\n",
       "0   172  Resources. Plenty of experienced people to hel...         Positive   \n",
       "1   220   Excellent company! Great Training! Great Culture         Positive   \n",
       "2   229  company has a good atmosphere of technically s...         Positive   \n",
       "3   229           new technology to work on and brand name         Positive   \n",
       "4   182  WaMu had a very diverse group of people to wor...         Positive   \n",
       "\n",
       "    first_LDA_topics  \n",
       "0  Senior Management  \n",
       "1  Work/Life Balance  \n",
       "2  Work/Life Balance  \n",
       "3  Work/Life Balance  \n",
       "4  Senior Management  "
      ]
     },
     "execution_count": 7,
     "metadata": {},
     "output_type": "execute_result"
    }
   ],
   "source": [
    "# Load model\n",
    "lda_best_model = pickle.load(open(LDA_path, 'rb'))\n",
    "\n",
    "# Apply model in dataset\n",
    "lda_predict = lda_best_model.transform(text_data)\n",
    "\n",
    "# Select the most relevant topic\n",
    "lda_predict_first_topic = []\n",
    "for e in lda_predict:\n",
    "    first_topic_number = np.argmax(e)\n",
    "    if first_topic_number == 0:\n",
    "        lda_predict_first_topic.append('Compensation and Benefits')\n",
    "    elif first_topic_number == 1:\n",
    "        lda_predict_first_topic.append('Staff')\n",
    "    elif first_topic_number == 2:\n",
    "        lda_predict_first_topic.append('Senior Management')\n",
    "    else:\n",
    "        lda_predict_first_topic.append('Work/Life Balance')\n",
    "\n",
    "# Add the topics in  the dataset\n",
    "df['first_LDA_topics'] = lda_predict_first_topic\n",
    "\n",
    "df = df[['firm', 'review', 'sentiment_review', 'first_LDA_topics']]\n",
    "df.head()"
   ]
  },
  {
   "cell_type": "markdown",
   "id": "de7a5cee-cee1-4ec9-bb38-d69c965429b1",
   "metadata": {},
   "source": [
    "<div id='Sample_analysis' />\n",
    "    \n",
    "## Sample analysis"
   ]
  },
  {
   "cell_type": "code",
   "execution_count": 8,
   "id": "e07e89f1-3232-45dc-9a07-c0e172058941",
   "metadata": {},
   "outputs": [],
   "source": [
    "def bar_graph_categoric_var(df_variable, title, rotation = 0, limite_categorias = 50, alphabetic_order = False):\n",
    "    plt.rcParams.update(plt.rcParamsDefault)\n",
    "    color = 'cornflowerblue'\n",
    "    contorno = None\n",
    "    if alphabetic_order == True:\n",
    "        df_bar_graph = pd.DataFrame(df_variable.value_counts()).sort_index().head(limite_categorias)\n",
    "    else:\n",
    "        df_bar_graph = pd.DataFrame(df_variable.value_counts()).head(limite_categorias)\n",
    "    ax = df_bar_graph.plot(kind = 'bar', width = 0.5, rot = rotation\n",
    "                          , align = 'center', color = color, edgecolor = contorno)\n",
    "    ax.get_legend().remove()\n",
    "    total = 0\n",
    "    for bars in ax.patches:\n",
    "        total += bars.get_height()\n",
    "       \n",
    "    for p in ax.patches:\n",
    "        width = p.get_width()\n",
    "        height = p.get_height()\n",
    "        x, y = p.get_xy()\n",
    "        ax.annotate(f'{height/total:.1%}'\n",
    "                    , (x + width/2, y + 2 + height)\n",
    "                    , ha = 'center')\n",
    "        plt.title(title, fontsize = 10)\n",
    "\n",
    "    plt.show()\n",
    "    plt.close()"
   ]
  },
  {
   "cell_type": "code",
   "execution_count": 9,
   "id": "e56219f2-f234-4140-bbe8-6f5bdb88f5c8",
   "metadata": {},
   "outputs": [
    {
     "data": {
      "text/html": [
       "<div>\n",
       "<style scoped>\n",
       "    .dataframe tbody tr th:only-of-type {\n",
       "        vertical-align: middle;\n",
       "    }\n",
       "\n",
       "    .dataframe tbody tr th {\n",
       "        vertical-align: top;\n",
       "    }\n",
       "\n",
       "    .dataframe thead th {\n",
       "        text-align: right;\n",
       "    }\n",
       "</style>\n",
       "<table border=\"1\" class=\"dataframe\">\n",
       "  <thead>\n",
       "    <tr style=\"text-align: right;\">\n",
       "      <th></th>\n",
       "      <th>count</th>\n",
       "      <th>%</th>\n",
       "    </tr>\n",
       "    <tr>\n",
       "      <th>sentiment_review</th>\n",
       "      <th></th>\n",
       "      <th></th>\n",
       "    </tr>\n",
       "  </thead>\n",
       "  <tbody>\n",
       "    <tr>\n",
       "      <th>Positive</th>\n",
       "      <td>3044</td>\n",
       "      <td>0.503057</td>\n",
       "    </tr>\n",
       "    <tr>\n",
       "      <th>Negative</th>\n",
       "      <td>3007</td>\n",
       "      <td>0.496943</td>\n",
       "    </tr>\n",
       "  </tbody>\n",
       "</table>\n",
       "</div>"
      ],
      "text/plain": [
       "                  count         %\n",
       "sentiment_review                 \n",
       "Positive           3044  0.503057\n",
       "Negative           3007  0.496943"
      ]
     },
     "metadata": {},
     "output_type": "display_data"
    },
    {
     "data": {
      "text/plain": [
       "<Figure size 600x300 with 0 Axes>"
      ]
     },
     "metadata": {},
     "output_type": "display_data"
    },
    {
     "data": {
      "image/png": "[encoded data removed]",
      "text/plain": [
       "<Figure size 640x480 with 1 Axes>"
      ]
     },
     "metadata": {},
     "output_type": "display_data"
    }
   ],
   "source": [
    "# Get a firm as example\n",
    "firm_number = 172  # This is the firm with most reviews\n",
    "df_analysis = df[np.in1d(df.firm, firm_number)].copy()\n",
    "# Proportion of positive and negative reviews\n",
    "value_counts = pd.DataFrame(df_analysis['sentiment_review'].value_counts(dropna = False))\n",
    "value_counts['%'] = value_counts['count'] / sum(value_counts['count'])\n",
    "display(value_counts)\n",
    "# Plot\n",
    "plt.figure(figsize = (6,3))\n",
    "df_variable = df_analysis['sentiment_review']\n",
    "title = 'Proportion of positive and negative reviews.'\n",
    "bar_graph_categoric_var(df_variable, title, rotation = 0, limite_categorias = 15)"
   ]
  },
  {
   "cell_type": "code",
   "execution_count": 10,
   "id": "6734f3be-55ce-43ee-91a4-eed7ca80275f",
   "metadata": {},
   "outputs": [
    {
     "name": "stdout",
     "output_type": "stream",
     "text": [
      "Proportion of topics for positive reviews.:\n"
     ]
    },
    {
     "data": {
      "text/html": [
       "<div>\n",
       "<style scoped>\n",
       "    .dataframe tbody tr th:only-of-type {\n",
       "        vertical-align: middle;\n",
       "    }\n",
       "\n",
       "    .dataframe tbody tr th {\n",
       "        vertical-align: top;\n",
       "    }\n",
       "\n",
       "    .dataframe thead th {\n",
       "        text-align: right;\n",
       "    }\n",
       "</style>\n",
       "<table border=\"1\" class=\"dataframe\">\n",
       "  <thead>\n",
       "    <tr style=\"text-align: right;\">\n",
       "      <th></th>\n",
       "      <th>count</th>\n",
       "      <th>%</th>\n",
       "    </tr>\n",
       "    <tr>\n",
       "      <th>first_LDA_topics</th>\n",
       "      <th></th>\n",
       "      <th></th>\n",
       "    </tr>\n",
       "  </thead>\n",
       "  <tbody>\n",
       "    <tr>\n",
       "      <th>Work/Life Balance</th>\n",
       "      <td>1511</td>\n",
       "      <td>0.496386</td>\n",
       "    </tr>\n",
       "    <tr>\n",
       "      <th>Senior Management</th>\n",
       "      <td>763</td>\n",
       "      <td>0.250657</td>\n",
       "    </tr>\n",
       "    <tr>\n",
       "      <th>Compensation and Benefits</th>\n",
       "      <td>538</td>\n",
       "      <td>0.176741</td>\n",
       "    </tr>\n",
       "    <tr>\n",
       "      <th>Staff</th>\n",
       "      <td>232</td>\n",
       "      <td>0.076216</td>\n",
       "    </tr>\n",
       "  </tbody>\n",
       "</table>\n",
       "</div>"
      ],
      "text/plain": [
       "                           count         %\n",
       "first_LDA_topics                          \n",
       "Work/Life Balance           1511  0.496386\n",
       "Senior Management            763  0.250657\n",
       "Compensation and Benefits    538  0.176741\n",
       "Staff                        232  0.076216"
      ]
     },
     "metadata": {},
     "output_type": "display_data"
    },
    {
     "data": {
      "text/plain": [
       "<Figure size 600x300 with 0 Axes>"
      ]
     },
     "metadata": {},
     "output_type": "display_data"
    },
    {
     "data": {
      "image/png": "[encoded data removed]",
      "text/plain": [
       "<Figure size 640x480 with 1 Axes>"
      ]
     },
     "metadata": {},
     "output_type": "display_data"
    }
   ],
   "source": [
    "# Verify topics of positive reviews\n",
    "df_analysis_positive = df_analysis[np.in1d(df_analysis.sentiment_review, 'Positive')]\n",
    "# Proportion of topics for positive reviews.\n",
    "print('Proportion of topics for positive reviews.:')\n",
    "value_counts = pd.DataFrame(df_analysis_positive['first_LDA_topics'].value_counts(dropna = False))\n",
    "value_counts['%'] = value_counts['count'] / sum(value_counts['count'])\n",
    "display(value_counts)\n",
    "# Plot\n",
    "plt.figure(figsize = (6,3))\n",
    "df_variable = df_analysis_positive['first_LDA_topics']\n",
    "title = 'Proportion of topics for positive reviews.'\n",
    "bar_graph_categoric_var(df_variable, title, rotation = 35, limite_categorias = 15)"
   ]
  },
  {
   "cell_type": "code",
   "execution_count": 11,
   "id": "d4684c3f-7636-4a80-bfba-8d32cfa68d4b",
   "metadata": {},
   "outputs": [
    {
     "name": "stdout",
     "output_type": "stream",
     "text": [
      "Proportion of topics for negative reviews.:\n"
     ]
    },
    {
     "data": {
      "text/html": [
       "<div>\n",
       "<style scoped>\n",
       "    .dataframe tbody tr th:only-of-type {\n",
       "        vertical-align: middle;\n",
       "    }\n",
       "\n",
       "    .dataframe tbody tr th {\n",
       "        vertical-align: top;\n",
       "    }\n",
       "\n",
       "    .dataframe thead th {\n",
       "        text-align: right;\n",
       "    }\n",
       "</style>\n",
       "<table border=\"1\" class=\"dataframe\">\n",
       "  <thead>\n",
       "    <tr style=\"text-align: right;\">\n",
       "      <th></th>\n",
       "      <th>count</th>\n",
       "      <th>%</th>\n",
       "    </tr>\n",
       "    <tr>\n",
       "      <th>first_LDA_topics</th>\n",
       "      <th></th>\n",
       "      <th></th>\n",
       "    </tr>\n",
       "  </thead>\n",
       "  <tbody>\n",
       "    <tr>\n",
       "      <th>Senior Management</th>\n",
       "      <td>1714</td>\n",
       "      <td>0.570003</td>\n",
       "    </tr>\n",
       "    <tr>\n",
       "      <th>Compensation and Benefits</th>\n",
       "      <td>775</td>\n",
       "      <td>0.257732</td>\n",
       "    </tr>\n",
       "    <tr>\n",
       "      <th>Work/Life Balance</th>\n",
       "      <td>283</td>\n",
       "      <td>0.094114</td>\n",
       "    </tr>\n",
       "    <tr>\n",
       "      <th>Staff</th>\n",
       "      <td>235</td>\n",
       "      <td>0.078151</td>\n",
       "    </tr>\n",
       "  </tbody>\n",
       "</table>\n",
       "</div>"
      ],
      "text/plain": [
       "                           count         %\n",
       "first_LDA_topics                          \n",
       "Senior Management           1714  0.570003\n",
       "Compensation and Benefits    775  0.257732\n",
       "Work/Life Balance            283  0.094114\n",
       "Staff                        235  0.078151"
      ]
     },
     "metadata": {},
     "output_type": "display_data"
    },
    {
     "data": {
      "text/plain": [
       "<Figure size 600x300 with 0 Axes>"
      ]
     },
     "metadata": {},
     "output_type": "display_data"
    },
    {
     "data": {
      "image/png": "[encoded data removed]",
      "text/plain": [
       "<Figure size 640x480 with 1 Axes>"
      ]
     },
     "metadata": {},
     "output_type": "display_data"
    }
   ],
   "source": [
    "# Verify topics of positive reviews\n",
    "df_analysis_negative = df_analysis[np.in1d(df_analysis.sentiment_review, 'Negative')]\n",
    "# Proportion of topics for positive reviews.\n",
    "print('Proportion of topics for negative reviews.:')\n",
    "value_counts = pd.DataFrame(df_analysis_negative['first_LDA_topics'].value_counts(dropna = False))\n",
    "value_counts['%'] = value_counts['count'] / sum(value_counts['count'])\n",
    "display(value_counts)\n",
    "# Plot\n",
    "plt.figure(figsize = (6,3))\n",
    "df_variable = df_analysis_negative['first_LDA_topics']\n",
    "title = 'Proportion of topics for negative reviews.'\n",
    "bar_graph_categoric_var(df_variable, title, rotation = 35, limite_categorias = 15)"
   ]
  },
  {
   "cell_type": "markdown",
   "id": "6c9d6eb7-8fe9-44fe-9c1a-12ed795ddd9a",
   "metadata": {},
   "source": [
    "For this specific firm, the sentiment of the reviews are well balanced between positive and negative (this was expected given the nature of our dataset). \\\n",
    "The most positive characteristic of working there is the work/life balance. \\\n",
    "On the other hand, the employees seems to have a problem with the senior management of the company."
   ]
  },
  {
   "cell_type": "markdown",
   "id": "97d5dee7-84fa-4c27-a201-78a05b19ad0c",
   "metadata": {},
   "source": [
    "<div id='LSTM_for_a_custom_review' />\n",
    "\n",
    "## LSTM for a custom review"
   ]
  },
  {
   "cell_type": "code",
   "execution_count": 12,
   "id": "f4537d5a-c520-4b4f-bfb6-f9fe5d9e194f",
   "metadata": {},
   "outputs": [
    {
     "name": "stdout",
     "output_type": "stream",
     "text": [
      "Review: It's good but it's also bad. I don't know. Maybe they could train better the management.\n"
     ]
    }
   ],
   "source": [
    "print(f'Review: {custom_review}')\n",
    "\n",
    "# Preprocess for LSTM.\n",
    "X_prod = custom_review\n",
    "# Remove punctuations.\n",
    "X_prod = re.sub(r'[^\\w\\s]', '', X_prod)\n",
    "\n",
    "# Load word2idx\n",
    "# Opening JSON file\n",
    "with open(word2idx_base_LSTM_path) as json_file:\n",
    "    word2idx = json.load(json_file)\n",
    "\n",
    "# Encode the sentences\n",
    "def encode_row(review, word2idx):\n",
    "    ecoded_row = []\n",
    "    for word in str(review).split():\n",
    "        if word in word2idx:\n",
    "            ecoded_row.append(word2idx[word])\n",
    "        else:\n",
    "            ecoded_row.append(word2idx[\"<UNK>\"])\n",
    "    return ecoded_row\n",
    "\n",
    "econded_review = encode_row(X_prod, word2idx)\n",
    "\n",
    "# PAD reviews\n",
    "max_len = 60 # Using a max length of 60, we get more than 95% of the reviews.\n",
    "X_prod_encoded = pad_sequences([econded_review], maxlen = max_len, padding = 'pre')"
   ]
  },
  {
   "cell_type": "code",
   "execution_count": 13,
   "id": "627f4913-6c1e-4650-92ee-b03c0a7bc05b",
   "metadata": {},
   "outputs": [
    {
     "name": "stdout",
     "output_type": "stream",
     "text": [
      "1/1 [==============================] - 0s 377ms/step\n",
      "Review: It's good but it's also bad. I don't know. Maybe they could train better the management.\n",
      "Predicted sentiment: ['Negative']\n"
     ]
    }
   ],
   "source": [
    "# Load model\n",
    "if base_LSTM_epoch_best_metric > 9:\n",
    "    best_epoch_aux = \"_00\" + str(base_LSTM_epoch_best_metric)\n",
    "else:\n",
    "    best_epoch_aux = \"_000\" + str(base_LSTM_epoch_best_metric)\n",
    "best_base_LSTM_path_win = base_LSTM_path_win + best_epoch_aux + \".h5\"\n",
    "best_base_LSTM_path_linux = base_LSTM_path_linux + best_epoch_aux + \".h5\"\n",
    "if OS_system == 1:\n",
    "    best_base_LSTM_path = best_base_LSTM_path_linux\n",
    "else:\n",
    "    best_base_LSTM_path = best_base_LSTM_path_win\n",
    "model_base_LSTM = tf.keras.models.load_model(best_base_LSTM_path, compile = False)\n",
    "\n",
    "# Predict\n",
    "y_pred_proba = model_base_LSTM.predict(X_prod_encoded)\n",
    "y_pred = ['Positive' if x > 0.5 else 'Negative' for x in y_pred_proba]\n",
    "\n",
    "print(f'Review: {custom_review}')\n",
    "print(f'Predicted sentiment: {y_pred}')"
   ]
  },
  {
   "cell_type": "markdown",
   "id": "08ff247e-1a71-4ace-97b4-df7607f0b050",
   "metadata": {},
   "source": [
    "<div id='Topic_modelng_with_LDA_for_a_custom_review' />\n",
    "\n",
    "## Topic modelng with LDA for a custom review"
   ]
  },
  {
   "cell_type": "code",
   "execution_count": 14,
   "id": "11789c25-d9a0-44df-8c5f-870df1270e7d",
   "metadata": {},
   "outputs": [],
   "source": [
    "# Preprocess\n",
    "X_prod = custom_review\n",
    "# Remove punctuations.\n",
    "X_prod = re.sub(r'[^\\w\\s]', '', X_prod)\n",
    "\n",
    "# Substitute /r and /n by space\n",
    "X_prod = re.sub('\\r', ' ', X_prod)\n",
    "X_prod = re.sub('\\n', ' ', X_prod)\n",
    "\n",
    "# Lower case\n",
    "X_prod = X_prod.lower()\n",
    "\n",
    "# Remove punctuation\n",
    "X_prod = re.sub(r'[^\\w\\s]', '', X_prod)\n",
    "\n",
    "# Remove stop words\n",
    "stopwords = nltk.corpus.stopwords.words('english')\n",
    "# Include new stopwords not useful for this project in specific.\n",
    "new_stopwords = ['able', 'across', 'alway', 'always', 'amazing', 'amount', 'around', 'available', 'average', 'away'\n",
    "                 , 'back', 'bad', 'bank', 'best', 'better', 'big', 'bit'\n",
    "                 , 'call', 'care', 'certain', 'co', 'come', 'comme', 'con', 'cons', 'cost'\n",
    "                 , 'day', 'decent', 'different', 'difficult', 'done', 'due'\n",
    "                 , 'easy', 'end', 'enough', 'especially', 'etc', 'even', 'event', 'every', 'everything', 'excellent', 'extremely'\n",
    "                 , 'fantastic', 'far', 'fast', 'feel', 'few', 'find', 'firm', 'first', 'focu', 'full'\n",
    "                 , 'getting', 'give', 'given', 'go', 'going', 'good', 'great'\n",
    "                 , 'hard', 'high', 'higher', 'interesting', 'keep', 'know'\n",
    "                 , 'lack', 'late', 'leave', 'less', 'level', 'limited', 'little', 'long', 'lot', 'lots', 'low', 'lower'\n",
    "                 , 'made', 'make', 'may', 'many', 'meet', 'meeting', 'middle', 'might', 'month', 'months', 'much'\n",
    "                 , 'n', 'name', 'need', 'never', 'new', 'non', 'number'\n",
    "                 , 'often', 'old', 'one', 'open', 'other', 'others', 'overall'\n",
    "                 , 'part', 'pretty', 'poor', 'put', 'quality', 'quite', 'rather', 'real', 'really', 'right' , 'room'\n",
    "                 , 'say', 'seem', 'short', 'slow', 'smart', 'sometime', 'sometimes', 'standard', 'start', 'still', 'strong'\n",
    "                 , 'take', 'term', 'thing', 'things', 'though', 'think', 'top', 'tough', 'u', 'unless'\n",
    "                 , 'want', 'way', 'week', 'well', 'within', 'without', 'world', 'year', 'years']\n",
    "for e in new_stopwords:\n",
    "    stopwords.append(e)\n",
    "    \n",
    "X_prod = ' '.join([word for word in X_prod.split() if word not in (stopwords)])\n",
    "\n",
    "# Tokenize words. Used to make it easier to stem.\n",
    "X_prod = X_prod.split()\n",
    "\n",
    "# stem words. This will be used in for the topic modeling.\n",
    "def stem_words(vec_words):\n",
    "    porter_stemmer = nltk.stem.PorterStemmer()\n",
    "    vec_stemming_word = []\n",
    "    for word in vec_words:\n",
    "        vec_stemming_word.append(porter_stemmer.stem(word))\n",
    "    return vec_stemming_word\n",
    "\n",
    "X_prod = stem_words(X_prod)\n",
    "\n",
    "# Join words to vectorize it using TF-IDF \n",
    "X_prod = ' '.join(X_prod)\n",
    "\n",
    "# Load TF-IDF\n",
    "tfidf = pickle.load(open(tfidf_path, 'rb'))\n",
    "\n",
    "# Fit and Transform the documents\n",
    "X_prod = tfidf.transform([X_prod])"
   ]
  },
  {
   "cell_type": "code",
   "execution_count": 15,
   "id": "9331e0bd-444f-4e30-a46a-d0072ad327ae",
   "metadata": {},
   "outputs": [
    {
     "name": "stdout",
     "output_type": "stream",
     "text": [
      "Review: It's good but it's also bad. I don't know. Maybe they could train better the management.\n",
      "Predicted sentiment: ['Negative']\n",
      "Predicted topic: Compensation and Benefits\n"
     ]
    }
   ],
   "source": [
    "# Load model\n",
    "lda_best_model = pickle.load(open(LDA_path, 'rb'))\n",
    "\n",
    "# Apply model in dataset\n",
    "lda_predict = lda_best_model.transform(X_prod)\n",
    "\n",
    "# Select the most relevant topic\n",
    "lda_predict_first_topic = []\n",
    "for e in lda_predict:\n",
    "    first_topic_number = np.argmax(e)\n",
    "    if first_topic_number == 0:\n",
    "        lda_predict_first_topic.append('Compensation and Benefits')\n",
    "    elif first_topic_number == 1:\n",
    "        lda_predict_first_topic.append('Staff')\n",
    "    elif first_topic_number == 2:\n",
    "        lda_predict_first_topic.append('Senior Management')\n",
    "    else:\n",
    "        lda_predict_first_topic.append('Work/Life Balance')\n",
    "\n",
    "print(f'Review: {custom_review}')\n",
    "print(f'Predicted sentiment: {y_pred}')\n",
    "print(f'Predicted topic: {lda_predict_first_topic[0]}')"
   ]
  },
  {
   "cell_type": "code",
   "execution_count": null,
   "id": "f418216d-306b-44d4-884d-09eef6440199",
   "metadata": {},
   "outputs": [],
   "source": []
  }
 ],
 "metadata": {
  "kernelspec": {
   "display_name": "Python 3 (ipykernel)",
   "language": "python",
   "name": "python3"
  },
  "language_info": {
   "codemirror_mode": {
    "name": "ipython",
    "version": 3
   },
   "file_extension": ".py",
   "mimetype": "text/x-python",
   "name": "python",
   "nbconvert_exporter": "python",
   "pygments_lexer": "ipython3",
   "version": "3.9.17"
  }
 },
 "nbformat": 4,
 "nbformat_minor": 5
}
